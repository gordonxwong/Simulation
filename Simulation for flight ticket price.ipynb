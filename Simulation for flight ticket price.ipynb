{
 "cells": [
  {
   "cell_type": "markdown",
   "metadata": {},
   "source": [
    "# 1. Executive Summary\n",
    "\n",
    "It is often the case that dynamic pricing would yield higer revenue than constant pricing. In this lab, we perform simulation on 100 cases of customers and try different parameter values to find best combination to achieve optimal profit. \n",
    "\n",
    "The following is a summary of our result:\n",
    "\n",
    "|           | P1    | P2    | l  | Profit  |\n",
    "|-----------|-------|-------|----|---------|\n",
    "| Constant  | \\$250 |       |    | \\$2,815 |\n",
    "| Dynamic   | \\$240 | \\$305 |    | \\$3,582 |\n",
    "| Rationing | \\$230 | \\$330 | 40 | \\$3,949 |\n",
    "\n",
    "Our recommendation is to apply rationing policy since it yields the highst profit. "
   ]
  },
  {
   "cell_type": "markdown",
   "metadata": {},
   "source": [
    "# 2. Generating Customers"
   ]
  },
  {
   "cell_type": "code",
   "execution_count": 1,
   "metadata": {
    "ExecuteTime": {
     "end_time": "2019-02-27T06:25:47.804192Z",
     "start_time": "2019-02-27T06:25:46.934519Z"
    }
   },
   "outputs": [],
   "source": [
    "from scipy.stats import norm\n",
    "from scipy.stats import uniform\n",
    "import pandas as pd\n",
    "import numpy as np\n",
    "from statistics import mean \n",
    "np.random.seed(0)"
   ]
  },
  {
   "cell_type": "code",
   "execution_count": 2,
   "metadata": {
    "ExecuteTime": {
     "end_time": "2019-02-27T06:25:47.821149Z",
     "start_time": "2019-02-27T06:25:47.807186Z"
    }
   },
   "outputs": [],
   "source": [
    "#declare distribution\n",
    "distLCs=norm(200,60)\n",
    "distLCt=uniform(0,180)\n",
    "distLCw=norm(200,80)\n",
    "distBCs=norm(60,20)\n",
    "distBCt=uniform(0,14)\n",
    "distBCw=norm(350,120)"
   ]
  },
  {
   "cell_type": "code",
   "execution_count": 3,
   "metadata": {
    "ExecuteTime": {
     "end_time": "2019-02-27T06:25:47.840097Z",
     "start_time": "2019-02-27T06:25:47.823142Z"
    }
   },
   "outputs": [],
   "source": [
    "def generateCustomers():\n",
    "    custLC=int(max(0,round(distLCs.rvs())))\n",
    "    custBC=int(max(0,round(distBCs.rvs())))\n",
    "    LCt=pd.Series(distLCt.rvs(custLC))\n",
    "    LCw=pd.Series(distLCw.rvs(custLC))\n",
    "    BCw=pd.Series(distBCw.rvs(custBC))\n",
    "    BCt=pd.Series(distBCt.rvs(custBC))\n",
    "\n",
    "    LC=pd.DataFrame([LCt,LCw]).transpose()\n",
    "    LC.columns=['arrival_time','valuation']\n",
    "    BC=pd.DataFrame([BCt,BCw]).transpose()\n",
    "    BC.columns=['arrival_time','valuation']\n",
    "\n",
    "    customerdf=pd.concat([LC,BC]).sort_values([\"arrival_time\"],ascending=False)\n",
    "    customerdf.index=range(len(customerdf.valuation))#reindex\n",
    "    return(customerdf)"
   ]
  },
  {
   "cell_type": "code",
   "execution_count": 4,
   "metadata": {
    "ExecuteTime": {
     "end_time": "2019-02-27T06:25:47.897942Z",
     "start_time": "2019-02-27T06:25:47.856056Z"
    }
   },
   "outputs": [],
   "source": [
    "customers=generateCustomers()"
   ]
  },
  {
   "cell_type": "code",
   "execution_count": 5,
   "metadata": {
    "ExecuteTime": {
     "end_time": "2019-02-27T06:25:47.958780Z",
     "start_time": "2019-02-27T06:25:47.904923Z"
    },
    "scrolled": true
   },
   "outputs": [
    {
     "data": {
      "text/html": [
       "<div>\n",
       "<style scoped>\n",
       "    .dataframe tbody tr th:only-of-type {\n",
       "        vertical-align: middle;\n",
       "    }\n",
       "\n",
       "    .dataframe tbody tr th {\n",
       "        vertical-align: top;\n",
       "    }\n",
       "\n",
       "    .dataframe thead th {\n",
       "        text-align: right;\n",
       "    }\n",
       "</style>\n",
       "<table border=\"1\" class=\"dataframe\">\n",
       "  <thead>\n",
       "    <tr style=\"text-align: right;\">\n",
       "      <th></th>\n",
       "      <th>arrival_time</th>\n",
       "      <th>valuation</th>\n",
       "    </tr>\n",
       "  </thead>\n",
       "  <tbody>\n",
       "    <tr>\n",
       "      <th>0</th>\n",
       "      <td>179.792461</td>\n",
       "      <td>270.414313</td>\n",
       "    </tr>\n",
       "    <tr>\n",
       "      <th>1</th>\n",
       "      <td>178.261011</td>\n",
       "      <td>168.381681</td>\n",
       "    </tr>\n",
       "    <tr>\n",
       "      <th>2</th>\n",
       "      <td>177.907291</td>\n",
       "      <td>144.636012</td>\n",
       "    </tr>\n",
       "    <tr>\n",
       "      <th>3</th>\n",
       "      <td>176.729290</td>\n",
       "      <td>239.895222</td>\n",
       "    </tr>\n",
       "    <tr>\n",
       "      <th>4</th>\n",
       "      <td>176.151302</td>\n",
       "      <td>241.685190</td>\n",
       "    </tr>\n",
       "    <tr>\n",
       "      <th>5</th>\n",
       "      <td>175.949125</td>\n",
       "      <td>230.618594</td>\n",
       "    </tr>\n",
       "    <tr>\n",
       "      <th>6</th>\n",
       "      <td>175.816996</td>\n",
       "      <td>190.546876</td>\n",
       "    </tr>\n",
       "    <tr>\n",
       "      <th>7</th>\n",
       "      <td>175.762704</td>\n",
       "      <td>95.477852</td>\n",
       "    </tr>\n",
       "    <tr>\n",
       "      <th>8</th>\n",
       "      <td>175.593871</td>\n",
       "      <td>176.653011</td>\n",
       "    </tr>\n",
       "    <tr>\n",
       "      <th>9</th>\n",
       "      <td>175.125508</td>\n",
       "      <td>10.433048</td>\n",
       "    </tr>\n",
       "    <tr>\n",
       "      <th>10</th>\n",
       "      <td>173.459297</td>\n",
       "      <td>234.100698</td>\n",
       "    </tr>\n",
       "    <tr>\n",
       "      <th>11</th>\n",
       "      <td>173.193938</td>\n",
       "      <td>105.289549</td>\n",
       "    </tr>\n",
       "    <tr>\n",
       "      <th>12</th>\n",
       "      <td>173.148548</td>\n",
       "      <td>196.343683</td>\n",
       "    </tr>\n",
       "    <tr>\n",
       "      <th>13</th>\n",
       "      <td>173.082628</td>\n",
       "      <td>181.262736</td>\n",
       "    </tr>\n",
       "    <tr>\n",
       "      <th>14</th>\n",
       "      <td>172.950238</td>\n",
       "      <td>269.124184</td>\n",
       "    </tr>\n",
       "    <tr>\n",
       "      <th>15</th>\n",
       "      <td>172.095054</td>\n",
       "      <td>309.162548</td>\n",
       "    </tr>\n",
       "    <tr>\n",
       "      <th>16</th>\n",
       "      <td>171.502498</td>\n",
       "      <td>361.683485</td>\n",
       "    </tr>\n",
       "    <tr>\n",
       "      <th>17</th>\n",
       "      <td>171.494822</td>\n",
       "      <td>332.764064</td>\n",
       "    </tr>\n",
       "    <tr>\n",
       "      <th>18</th>\n",
       "      <td>170.877388</td>\n",
       "      <td>153.498522</td>\n",
       "    </tr>\n",
       "    <tr>\n",
       "      <th>19</th>\n",
       "      <td>170.526706</td>\n",
       "      <td>215.944016</td>\n",
       "    </tr>\n",
       "    <tr>\n",
       "      <th>20</th>\n",
       "      <td>170.040405</td>\n",
       "      <td>89.330884</td>\n",
       "    </tr>\n",
       "    <tr>\n",
       "      <th>21</th>\n",
       "      <td>169.987030</td>\n",
       "      <td>209.897753</td>\n",
       "    </tr>\n",
       "    <tr>\n",
       "      <th>22</th>\n",
       "      <td>169.874654</td>\n",
       "      <td>175.129106</td>\n",
       "    </tr>\n",
       "    <tr>\n",
       "      <th>23</th>\n",
       "      <td>169.447987</td>\n",
       "      <td>69.389238</td>\n",
       "    </tr>\n",
       "    <tr>\n",
       "      <th>24</th>\n",
       "      <td>169.277750</td>\n",
       "      <td>282.355106</td>\n",
       "    </tr>\n",
       "    <tr>\n",
       "      <th>25</th>\n",
       "      <td>168.158520</td>\n",
       "      <td>338.617695</td>\n",
       "    </tr>\n",
       "    <tr>\n",
       "      <th>26</th>\n",
       "      <td>167.315277</td>\n",
       "      <td>303.841758</td>\n",
       "    </tr>\n",
       "    <tr>\n",
       "      <th>27</th>\n",
       "      <td>167.273316</td>\n",
       "      <td>191.415578</td>\n",
       "    </tr>\n",
       "    <tr>\n",
       "      <th>28</th>\n",
       "      <td>167.054633</td>\n",
       "      <td>204.714047</td>\n",
       "    </tr>\n",
       "    <tr>\n",
       "      <th>29</th>\n",
       "      <td>166.607395</td>\n",
       "      <td>176.176730</td>\n",
       "    </tr>\n",
       "    <tr>\n",
       "      <th>...</th>\n",
       "      <td>...</td>\n",
       "      <td>...</td>\n",
       "    </tr>\n",
       "    <tr>\n",
       "      <th>344</th>\n",
       "      <td>4.100440</td>\n",
       "      <td>334.273519</td>\n",
       "    </tr>\n",
       "    <tr>\n",
       "      <th>345</th>\n",
       "      <td>4.039979</td>\n",
       "      <td>463.096174</td>\n",
       "    </tr>\n",
       "    <tr>\n",
       "      <th>346</th>\n",
       "      <td>3.959716</td>\n",
       "      <td>236.675781</td>\n",
       "    </tr>\n",
       "    <tr>\n",
       "      <th>347</th>\n",
       "      <td>3.717180</td>\n",
       "      <td>270.066621</td>\n",
       "    </tr>\n",
       "    <tr>\n",
       "      <th>348</th>\n",
       "      <td>3.639312</td>\n",
       "      <td>292.186525</td>\n",
       "    </tr>\n",
       "    <tr>\n",
       "      <th>349</th>\n",
       "      <td>3.619358</td>\n",
       "      <td>380.537880</td>\n",
       "    </tr>\n",
       "    <tr>\n",
       "      <th>350</th>\n",
       "      <td>3.505575</td>\n",
       "      <td>325.652379</td>\n",
       "    </tr>\n",
       "    <tr>\n",
       "      <th>351</th>\n",
       "      <td>3.454776</td>\n",
       "      <td>52.554436</td>\n",
       "    </tr>\n",
       "    <tr>\n",
       "      <th>352</th>\n",
       "      <td>3.382164</td>\n",
       "      <td>45.097616</td>\n",
       "    </tr>\n",
       "    <tr>\n",
       "      <th>353</th>\n",
       "      <td>3.333923</td>\n",
       "      <td>228.503425</td>\n",
       "    </tr>\n",
       "    <tr>\n",
       "      <th>354</th>\n",
       "      <td>3.015575</td>\n",
       "      <td>392.570923</td>\n",
       "    </tr>\n",
       "    <tr>\n",
       "      <th>355</th>\n",
       "      <td>2.974081</td>\n",
       "      <td>505.741495</td>\n",
       "    </tr>\n",
       "    <tr>\n",
       "      <th>356</th>\n",
       "      <td>2.957333</td>\n",
       "      <td>288.022747</td>\n",
       "    </tr>\n",
       "    <tr>\n",
       "      <th>357</th>\n",
       "      <td>2.915546</td>\n",
       "      <td>262.514641</td>\n",
       "    </tr>\n",
       "    <tr>\n",
       "      <th>358</th>\n",
       "      <td>2.562466</td>\n",
       "      <td>66.299142</td>\n",
       "    </tr>\n",
       "    <tr>\n",
       "      <th>359</th>\n",
       "      <td>2.478081</td>\n",
       "      <td>293.596054</td>\n",
       "    </tr>\n",
       "    <tr>\n",
       "      <th>360</th>\n",
       "      <td>2.421319</td>\n",
       "      <td>270.812992</td>\n",
       "    </tr>\n",
       "    <tr>\n",
       "      <th>361</th>\n",
       "      <td>2.382634</td>\n",
       "      <td>42.510025</td>\n",
       "    </tr>\n",
       "    <tr>\n",
       "      <th>362</th>\n",
       "      <td>2.228047</td>\n",
       "      <td>413.240505</td>\n",
       "    </tr>\n",
       "    <tr>\n",
       "      <th>363</th>\n",
       "      <td>2.108535</td>\n",
       "      <td>268.633914</td>\n",
       "    </tr>\n",
       "    <tr>\n",
       "      <th>364</th>\n",
       "      <td>1.964424</td>\n",
       "      <td>238.381220</td>\n",
       "    </tr>\n",
       "    <tr>\n",
       "      <th>365</th>\n",
       "      <td>1.619266</td>\n",
       "      <td>130.431151</td>\n",
       "    </tr>\n",
       "    <tr>\n",
       "      <th>366</th>\n",
       "      <td>1.573982</td>\n",
       "      <td>268.636906</td>\n",
       "    </tr>\n",
       "    <tr>\n",
       "      <th>367</th>\n",
       "      <td>1.500950</td>\n",
       "      <td>213.223705</td>\n",
       "    </tr>\n",
       "    <tr>\n",
       "      <th>368</th>\n",
       "      <td>0.889753</td>\n",
       "      <td>136.212457</td>\n",
       "    </tr>\n",
       "    <tr>\n",
       "      <th>369</th>\n",
       "      <td>0.845186</td>\n",
       "      <td>275.460858</td>\n",
       "    </tr>\n",
       "    <tr>\n",
       "      <th>370</th>\n",
       "      <td>0.690885</td>\n",
       "      <td>215.802569</td>\n",
       "    </tr>\n",
       "    <tr>\n",
       "      <th>371</th>\n",
       "      <td>0.559899</td>\n",
       "      <td>375.617606</td>\n",
       "    </tr>\n",
       "    <tr>\n",
       "      <th>372</th>\n",
       "      <td>0.072141</td>\n",
       "      <td>323.655077</td>\n",
       "    </tr>\n",
       "    <tr>\n",
       "      <th>373</th>\n",
       "      <td>0.007644</td>\n",
       "      <td>344.648549</td>\n",
       "    </tr>\n",
       "  </tbody>\n",
       "</table>\n",
       "<p>374 rows × 2 columns</p>\n",
       "</div>"
      ],
      "text/plain": [
       "     arrival_time   valuation\n",
       "0      179.792461  270.414313\n",
       "1      178.261011  168.381681\n",
       "2      177.907291  144.636012\n",
       "3      176.729290  239.895222\n",
       "4      176.151302  241.685190\n",
       "5      175.949125  230.618594\n",
       "6      175.816996  190.546876\n",
       "7      175.762704   95.477852\n",
       "8      175.593871  176.653011\n",
       "9      175.125508   10.433048\n",
       "10     173.459297  234.100698\n",
       "11     173.193938  105.289549\n",
       "12     173.148548  196.343683\n",
       "13     173.082628  181.262736\n",
       "14     172.950238  269.124184\n",
       "15     172.095054  309.162548\n",
       "16     171.502498  361.683485\n",
       "17     171.494822  332.764064\n",
       "18     170.877388  153.498522\n",
       "19     170.526706  215.944016\n",
       "20     170.040405   89.330884\n",
       "21     169.987030  209.897753\n",
       "22     169.874654  175.129106\n",
       "23     169.447987   69.389238\n",
       "24     169.277750  282.355106\n",
       "25     168.158520  338.617695\n",
       "26     167.315277  303.841758\n",
       "27     167.273316  191.415578\n",
       "28     167.054633  204.714047\n",
       "29     166.607395  176.176730\n",
       "..            ...         ...\n",
       "344      4.100440  334.273519\n",
       "345      4.039979  463.096174\n",
       "346      3.959716  236.675781\n",
       "347      3.717180  270.066621\n",
       "348      3.639312  292.186525\n",
       "349      3.619358  380.537880\n",
       "350      3.505575  325.652379\n",
       "351      3.454776   52.554436\n",
       "352      3.382164   45.097616\n",
       "353      3.333923  228.503425\n",
       "354      3.015575  392.570923\n",
       "355      2.974081  505.741495\n",
       "356      2.957333  288.022747\n",
       "357      2.915546  262.514641\n",
       "358      2.562466   66.299142\n",
       "359      2.478081  293.596054\n",
       "360      2.421319  270.812992\n",
       "361      2.382634   42.510025\n",
       "362      2.228047  413.240505\n",
       "363      2.108535  268.633914\n",
       "364      1.964424  238.381220\n",
       "365      1.619266  130.431151\n",
       "366      1.573982  268.636906\n",
       "367      1.500950  213.223705\n",
       "368      0.889753  136.212457\n",
       "369      0.845186  275.460858\n",
       "370      0.690885  215.802569\n",
       "371      0.559899  375.617606\n",
       "372      0.072141  323.655077\n",
       "373      0.007644  344.648549\n",
       "\n",
       "[374 rows x 2 columns]"
      ]
     },
     "execution_count": 5,
     "metadata": {},
     "output_type": "execute_result"
    }
   ],
   "source": [
    "customers"
   ]
  },
  {
   "cell_type": "code",
   "execution_count": 19,
   "metadata": {
    "ExecuteTime": {
     "end_time": "2019-02-27T06:38:47.005778Z",
     "start_time": "2019-02-27T06:38:46.806311Z"
    }
   },
   "outputs": [
    {
     "data": {
      "image/png": "[encoded data removed]",
      "text/plain": [
       "<Figure size 432x288 with 1 Axes>"
      ]
     },
     "metadata": {},
     "output_type": "display_data"
    }
   ],
   "source": [
    "np.random.seed(0)\n",
    "generateCustomers().plot(x='arrival_time',y='valuation',kind='scatter');"
   ]
  },
  {
   "cell_type": "markdown",
   "metadata": {},
   "source": [
    "# 3. Simulating Pricing Policies"
   ]
  },
  {
   "cell_type": "markdown",
   "metadata": {},
   "source": [
    "### Revenue Under Constant Pricing Policy"
   ]
  },
  {
   "cell_type": "code",
   "execution_count": 7,
   "metadata": {
    "ExecuteTime": {
     "end_time": "2019-02-27T06:25:48.712764Z",
     "start_time": "2019-02-27T06:25:48.705782Z"
    }
   },
   "outputs": [],
   "source": [
    "def simulateConstant(customers,seats,p):\n",
    "    revenue=0\n",
    "    space=seats\n",
    "    for i in customers['valuation']:\n",
    "        if space==0:\n",
    "            break\n",
    "        if i>=p: \n",
    "            space-=1\n",
    "            revenue+=p\n",
    "    return revenue"
   ]
  },
  {
   "cell_type": "markdown",
   "metadata": {},
   "source": [
    "### Revenue Under Dynamic Pricing Policy"
   ]
  },
  {
   "cell_type": "code",
   "execution_count": 8,
   "metadata": {
    "ExecuteTime": {
     "end_time": "2019-02-27T06:25:48.738695Z",
     "start_time": "2019-02-27T06:25:48.719757Z"
    }
   },
   "outputs": [],
   "source": [
    "def simulateDynamic(customers,seats,p1,p2):\n",
    "    space=seats\n",
    "    revenue=0\n",
    "    for i in range(len(customers)):\n",
    "        if space==0:\n",
    "            break\n",
    "        if customers.arrival_time[i]<=14:\n",
    "            if customers.valuation[i]>=p2: \n",
    "                space-=1\n",
    "                revenue+=p2\n",
    "        elif customers.valuation[i]>=p1: \n",
    "            space-=1\n",
    "            revenue+=p1\n",
    "    return revenue"
   ]
  },
  {
   "cell_type": "markdown",
   "metadata": {},
   "source": [
    "### Revenue Under Rationing Pricing Policy"
   ]
  },
  {
   "cell_type": "code",
   "execution_count": 9,
   "metadata": {
    "ExecuteTime": {
     "end_time": "2019-02-27T06:25:48.763639Z",
     "start_time": "2019-02-27T06:25:48.742684Z"
    }
   },
   "outputs": [],
   "source": [
    "def simulateRationing(customers,seats,p1,p2,l):\n",
    "    revenue=0\n",
    "    space=seats\n",
    "    for i in range(len(customers)):\n",
    "        if space==0:\n",
    "            break\n",
    "        if space<=l:\n",
    "            if customers.valuation[i]>=p2: \n",
    "                space-=1\n",
    "                revenue+=p2\n",
    "        elif customers.valuation[i]>=p1: \n",
    "            space-=1\n",
    "            revenue+=p1\n",
    "    return revenue"
   ]
  },
  {
   "cell_type": "markdown",
   "metadata": {},
   "source": [
    "Check if the functions are correct."
   ]
  },
  {
   "cell_type": "code",
   "execution_count": 10,
   "metadata": {
    "ExecuteTime": {
     "end_time": "2019-02-27T06:25:48.806512Z",
     "start_time": "2019-02-27T06:25:48.770610Z"
    }
   },
   "outputs": [
    {
     "name": "stdout",
     "output_type": "stream",
     "text": [
      "Constant policy with 2 seats p=50 \t: 100\n",
      "Constant policy with 2 seats p=100 \t: 100\n",
      "Dynamic policy with 3 seats p1=40, p2=95 \t: 175\n",
      "Dynamic policy with 2 seats p1=40, p2=95 \t: 80\n",
      "Dynamic policy with 1 seats p1=50, p2=100 \t: 50\n",
      "Rationing policy with 3 seats p1=40, p2=100, l=1 \t: 180\n",
      "Rationing policy with 2 seats p1=40, p2=100, l=1 \t: 140\n",
      "Rationing policy with 1 seats p1=40, p2=95, l=1 \t: 95\n"
     ]
    }
   ],
   "source": [
    "data1=[[170,50],[150,40],[13,95],[12,100]]\n",
    "customers=pd.DataFrame(data1,columns=['arrival_time','valuation'])\n",
    "print('Constant policy with 2 seats p=50 \\t:',simulateConstant(customers,2,50))\n",
    "print('Constant policy with 2 seats p=100 \\t:',simulateConstant(customers,2,100))\n",
    "print('Dynamic policy with 3 seats p1=40, p2=95 \\t:',simulateDynamic(customers,3,40,95))\n",
    "print('Dynamic policy with 2 seats p1=40, p2=95 \\t:',simulateDynamic(customers,2,40,95))\n",
    "print('Dynamic policy with 1 seats p1=50, p2=100 \\t:',simulateDynamic(customers,1,50,100))\n",
    "print('Rationing policy with 3 seats p1=40, p2=100, l=1 \\t:',\\\n",
    "simulateRationing(customers,3,40,100,1))\n",
    "print('Rationing policy with 2 seats p1=40, p2=100, l=1 \\t:',\\\n",
    "simulateRationing(customers,2,40,100,1))\n",
    "print('Rationing policy with 1 seats p1=40, p2=95, l=1 \\t:',\\\n",
    "simulateRationing(customers,1,40,95,1))"
   ]
  },
  {
   "cell_type": "markdown",
   "metadata": {},
   "source": [
    "# 4. Optimizing Parameters"
   ]
  },
  {
   "cell_type": "code",
   "execution_count": 11,
   "metadata": {
    "ExecuteTime": {
     "end_time": "2019-02-27T06:25:48.814492Z",
     "start_time": "2019-02-27T06:25:48.809505Z"
    }
   },
   "outputs": [],
   "source": [
    "#Seats are fixed for every senario\n",
    "seats=100"
   ]
  },
  {
   "cell_type": "code",
   "execution_count": 12,
   "metadata": {
    "ExecuteTime": {
     "end_time": "2019-02-27T06:25:49.637643Z",
     "start_time": "2019-02-27T06:25:48.821472Z"
    }
   },
   "outputs": [],
   "source": [
    "# generate 100 samples of customers\n",
    "np.random.seed(0)\n",
    "customers100 = []\n",
    "for i in range(100):\n",
    "    customers100.append(generateCustomers())"
   ]
  },
  {
   "cell_type": "markdown",
   "metadata": {},
   "source": [
    "### Optimal for Constant Pricing"
   ]
  },
  {
   "cell_type": "markdown",
   "metadata": {
    "ExecuteTime": {
     "end_time": "2019-02-26T22:52:28.515041Z",
     "start_time": "2019-02-26T22:52:28.492225Z"
    }
   },
   "source": [
    "Define function to look for optimal price range on constant pricing"
   ]
  },
  {
   "cell_type": "code",
   "execution_count": 13,
   "metadata": {
    "ExecuteTime": {
     "end_time": "2019-02-27T06:25:49.647266Z",
     "start_time": "2019-02-27T06:25:49.640284Z"
    }
   },
   "outputs": [],
   "source": [
    "def OptimalA(stepsA,pAL,pAU):  \n",
    "    profit=[]\n",
    "    for q in range(pAL,pAU,stepsA):\n",
    "        data=[]\n",
    "        for cust in customers100:\n",
    "            data.append(simulateConstant(cust,seats,q))\n",
    "        profit.append([q,mean(data)-20000])\n",
    "    result=pd.DataFrame(profit,columns=[\"Price\",\"Profit\"])\n",
    "\n",
    "    maxProfit=result['Profit'].max()\n",
    "    maxID=result['Profit'].idxmax()\n",
    "    maxp1=result.iloc[maxID,0]\n",
    "\n",
    "\n",
    "    print(\"Constant price policy: best p =\",maxp1,\",best expected profit=\",maxProfit)"
   ]
  },
  {
   "cell_type": "markdown",
   "metadata": {},
   "source": [
    "This operation is rather fast, and it gives optimal price from range 200 to 300.\n",
    "\n",
    "Optimal price is \\$250 while profit is $2,815"
   ]
  },
  {
   "cell_type": "code",
   "execution_count": 14,
   "metadata": {
    "ExecuteTime": {
     "end_time": "2019-02-27T06:25:49.904575Z",
     "start_time": "2019-02-27T06:25:49.651255Z"
    }
   },
   "outputs": [
    {
     "name": "stdout",
     "output_type": "stream",
     "text": [
      "Constant price policy: best p = 250 ,best expected profit= 2815.0\n"
     ]
    }
   ],
   "source": [
    "OptimalA(5,200,300)"
   ]
  },
  {
   "cell_type": "markdown",
   "metadata": {
    "ExecuteTime": {
     "end_time": "2019-02-26T22:57:27.526280Z",
     "start_time": "2019-02-26T22:57:27.520824Z"
    }
   },
   "source": [
    "### Optimal for Dynamic Pricing"
   ]
  },
  {
   "cell_type": "markdown",
   "metadata": {},
   "source": [
    "Define function to look for optimal price range for dynamic pricing"
   ]
  },
  {
   "cell_type": "code",
   "execution_count": 15,
   "metadata": {
    "ExecuteTime": {
     "end_time": "2019-02-27T06:25:49.921531Z",
     "start_time": "2019-02-27T06:25:49.906570Z"
    }
   },
   "outputs": [],
   "source": [
    "def OptimalB(stepsB,p1BL,p1BU,p2BL,p2BU):      \n",
    "    profit=[]\n",
    "    for q1 in range(p1BL,p1BU,stepsB):\n",
    "        for q2 in range(p2BL,p2BU,stepsB):\n",
    "            data=[]\n",
    "            for cust in customers100:\n",
    "                data.append(simulateDynamic(cust,seats,q1,q2))\n",
    "            profit.append([q1,q2,mean(data)-20000])  \n",
    "    result=pd.DataFrame(profit,columns=[\"Price_1\",\"Price_2\",\"Profit\"])\n",
    "\n",
    "    maxProfit=result['Profit'].max()\n",
    "    maxID=result['Profit'].idxmax()\n",
    "    maxp1=result.iloc[maxID,0]\n",
    "    maxp2=result.iloc[maxID,1]\n",
    "\n",
    "    print(\"Constant price policy: best p1 =\",maxp1,\"best p2 =\",maxp2,\",best expected profit=\",maxProfit)"
   ]
  },
  {
   "cell_type": "markdown",
   "metadata": {},
   "source": [
    "We test from steps 50, 20, untill 5 and shrink range for p1 and p2.\n",
    "\n",
    "Optimal p1 is \\$240, p2 is \\$305, and profit is $3,582"
   ]
  },
  {
   "cell_type": "code",
   "execution_count": 16,
   "metadata": {
    "ExecuteTime": {
     "end_time": "2019-02-27T06:27:07.220049Z",
     "start_time": "2019-02-27T06:25:49.924523Z"
    }
   },
   "outputs": [
    {
     "name": "stdout",
     "output_type": "stream",
     "text": [
      "Constant price policy: best p1 = 240 best p2 = 305 ,best expected profit= 3581.9000000000015\n"
     ]
    }
   ],
   "source": [
    "OptimalB(5,230,270,280,330)"
   ]
  },
  {
   "cell_type": "markdown",
   "metadata": {},
   "source": [
    "### Optimal for Rationing Pricing"
   ]
  },
  {
   "cell_type": "markdown",
   "metadata": {},
   "source": [
    "Define function to look for optimal price and l range for rationing pricing"
   ]
  },
  {
   "cell_type": "code",
   "execution_count": 17,
   "metadata": {
    "ExecuteTime": {
     "end_time": "2019-02-27T06:27:07.232976Z",
     "start_time": "2019-02-27T06:27:07.223003Z"
    }
   },
   "outputs": [],
   "source": [
    "def OptimalC(stepsC,p1CL,p1CU,p2CL,p2CU,stepsl,lL,lU):\n",
    "    profit=[]\n",
    "    for q1 in range(p1CL,p1CU,stepsC):\n",
    "        for q2 in range(p2CL,p2CU,stepsC):\n",
    "            for l in range(lL,lU,stepsl):\n",
    "                data=[]\n",
    "                for cust in customers100:\n",
    "                    data.append(simulateRationing(cust,seats,q1,q2,l))\n",
    "                profit.append([q1,q2,l,mean(data)-20000])  \n",
    "    result=pd.DataFrame(profit,columns=[\"Price_1\",\"Price_2\",\"l\",\"Profit\"])\n",
    "\n",
    "    maxProfit=result['Profit'].max()\n",
    "    maxID=result['Profit'].idxmax()\n",
    "    maxp1=result.iloc[maxID,0]\n",
    "    maxp2=result.iloc[maxID,1]\n",
    "    maxl=result.iloc[maxID,2]\n",
    "\n",
    "    print(\"Constant price policy: best p1 =\",maxp1,\"best p2 =\",maxp2,\"best l =\",maxl,\",best expected profit=\",maxProfit)"
   ]
  },
  {
   "cell_type": "markdown",
   "metadata": {
    "ExecuteTime": {
     "end_time": "2019-02-26T18:15:36.413472Z",
     "start_time": "2019-02-26T18:15:35.730153Z"
    }
   },
   "source": [
    "Optimal p1 is \\$230, p2 is \\$330, l is 40, and profit is $3,949"
   ]
  },
  {
   "cell_type": "code",
   "execution_count": 18,
   "metadata": {
    "ExecuteTime": {
     "end_time": "2019-02-27T06:38:46.803360Z",
     "start_time": "2019-02-27T06:27:07.236966Z"
    }
   },
   "outputs": [
    {
     "name": "stdout",
     "output_type": "stream",
     "text": [
      "Constant price policy: best p1 = 230 best p2 = 330 best l = 40 ,best expected profit= 3948.7999999999993\n"
     ]
    }
   ],
   "source": [
    "OptimalC(5,200,245,300,360,1,32,45)"
   ]
  }
 ],
 "metadata": {
  "kernelspec": {
   "display_name": "Python 3",
   "language": "python",
   "name": "python3"
  },
  "language_info": {
   "codemirror_mode": {
    "name": "ipython",
    "version": 3
   },
   "file_extension": ".py",
   "mimetype": "text/x-python",
   "name": "python",
   "nbconvert_exporter": "python",
   "pygments_lexer": "ipython3",
   "version": "3.6.5"
  }
 },
 "nbformat": 4,
 "nbformat_minor": 2
}
