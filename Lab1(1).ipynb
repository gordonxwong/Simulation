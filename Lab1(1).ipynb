{
 "cells": [
  {
   "cell_type": "code",
   "execution_count": 16,
   "metadata": {},
   "outputs": [],
   "source": [
    "from scipy.stats import norm\n",
    "from scipy.stats import uniform\n",
    "import pandas as pd\n",
    "import numpy as np\n",
    "np.random.seed(0)"
   ]
  },
  {
   "cell_type": "code",
   "execution_count": 3,
   "metadata": {},
   "outputs": [],
   "source": [
    "distLCs=norm(200,60)\n",
    "distLCt=uniform(0,180)\n",
    "distLCw=norm(200,80)\n",
    "distBCs=norm(60,20)\n",
    "distBCt=uniform(0,14)\n",
    "distBCw=norm(350,120)"
   ]
  },
  {
   "cell_type": "code",
   "execution_count": 89,
   "metadata": {},
   "outputs": [],
   "source": [
    "np.random.seed(0)\n",
    "LCt=pd.Series(distLCt.rvs(size=int(max(0,round(distLCs.rvs())))))\n",
    "np.random.seed(0)\n",
    "BCt=pd.Series(distBCt.rvs(size=int(max(0,round(distBCs.rvs())))))"
   ]
  },
  {
   "cell_type": "code",
   "execution_count": 90,
   "metadata": {},
   "outputs": [],
   "source": [
    "np.random.seed(0)\n",
    "LCw=pd.Series(distLCw.rvs(size=int(max(0,round(distLCs.rvs())))))\n",
    "np.random.seed(0)\n",
    "BCw=pd.Series(distBCw.rvs(size=int(max(0,round(distBCs.rvs())))))"
   ]
  },
  {
   "cell_type": "code",
   "execution_count": 32,
   "metadata": {},
   "outputs": [
    {
     "data": {
      "text/plain": [
       "(306,)"
      ]
     },
     "execution_count": 32,
     "metadata": {},
     "output_type": "execute_result"
    }
   ],
   "source": [
    "LCt.shape"
   ]
  },
  {
   "cell_type": "code",
   "execution_count": 93,
   "metadata": {},
   "outputs": [],
   "source": [
    "LC=pd.DataFrame([LCt,LCw]).transpose()\n",
    "LC.columns=['arrival_time','valuation']\n",
    "BC=pd.DataFrame([BCt,BCw]).transpose()\n",
    "BC.columns=['arrival_time','valuation']"
   ]
  },
  {
   "cell_type": "code",
   "execution_count": 98,
   "metadata": {},
   "outputs": [],
   "source": [
    "customers=pd.concat([LC,BC]).sort_values([\"arrival_time\"],ascending=False)"
   ]
  },
  {
   "cell_type": "code",
   "execution_count": 60,
   "metadata": {},
   "outputs": [
    {
     "data": {
      "text/plain": [
       "23500"
      ]
     },
     "execution_count": 60,
     "metadata": {},
     "output_type": "execute_result"
    }
   ],
   "source": [
    "LCr={}\n",
    "for p in range(0,350,5):\n",
    "    count=0\n",
    "    for i in range(len(LCw)):\n",
    "        if LCw[i]>=p: #p is to modify\n",
    "            count+=1\n",
    "        LCr[p]=min(count,100)*p\n",
    "max(LCr,key=LCr.get)\n",
    "LCr[max(LCr,key=LCr.get)]"
   ]
  },
  {
   "cell_type": "code",
   "execution_count": 67,
   "metadata": {},
   "outputs": [],
   "source": [
    "seats=100\n",
    "p=350"
   ]
  },
  {
   "cell_type": "code",
   "execution_count": 65,
   "metadata": {},
   "outputs": [],
   "source": [
    "def simulateConstant(customers,seats,p):\n",
    "    LCr={}\n",
    "    for q in range(0,p,5):\n",
    "        count=0\n",
    "        for i in customers['valuation']:\n",
    "            if i>=q: \n",
    "                count+=1\n",
    "            LCr[q]=min(count,seats)*q\n",
    "    return max(LCr,key=LCr.get),LCr[max(LCr,key=LCr.get)]"
   ]
  },
  {
   "cell_type": "code",
   "execution_count": 150,
   "metadata": {},
   "outputs": [],
   "source": [
    " customers.index=range(len(customers.valuation))#reindex"
   ]
  },
  {
   "cell_type": "code",
   "execution_count": 99,
   "metadata": {},
   "outputs": [
    {
     "data": {
      "text/plain": [
       "(295, 29500)"
      ]
     },
     "execution_count": 99,
     "metadata": {},
     "output_type": "execute_result"
    }
   ],
   "source": [
    "simulateConstant(customers,seats,p)"
   ]
  },
  {
   "cell_type": "code",
   "execution_count": 157,
   "metadata": {},
   "outputs": [
    {
     "data": {
      "text/plain": [
       "22400"
      ]
     },
     "execution_count": 157,
     "metadata": {},
     "output_type": "execute_result"
    }
   ],
   "source": [
    "LCr={}\n",
    "p1=100\n",
    "p=p1\n",
    "\n",
    "for p2 in range(0,350,5):\n",
    "    count1=0\n",
    "    count2=0\n",
    "    for i in range(len(customers)):\n",
    "        if customers[\"arrival_time\"][i]<=14:\n",
    "            p=p2          \n",
    "            if customers.valuation[i]>=p: \n",
    "                count2+=1\n",
    "        elif customers[\"valuation\"][i]>=p: \n",
    "            count1+=1\n",
    "    LCr[p2]=min(count1,100)*p1+(min(count1+count2,100)-min(count1,100))*p2\n",
    "max(LCr,key=LCr.get)\n",
    "LCr[max(LCr,key=LCr.get)]"
   ]
  },
  {
   "cell_type": "code",
   "execution_count": null,
   "metadata": {},
   "outputs": [],
   "source": []
  }
 ],
 "metadata": {
  "kernelspec": {
   "display_name": "Python 3",
   "language": "python",
   "name": "python3"
  },
  "language_info": {
   "codemirror_mode": {
    "name": "ipython",
    "version": 3
   },
   "file_extension": ".py",
   "mimetype": "text/x-python",
   "name": "python",
   "nbconvert_exporter": "python",
   "pygments_lexer": "ipython3",
   "version": "3.6.5"
  }
 },
 "nbformat": 4,
 "nbformat_minor": 2
}
