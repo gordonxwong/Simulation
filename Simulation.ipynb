{
 "cells": [
  {
   "cell_type": "markdown",
   "metadata": {},
   "source": [
    "## Sampling from an Arbitrary Discrete Distribution\n",
    "\n",
    "The `scipy.stats.rv_discrete` package only supports discrete distributions with integer values. In this exercise, you will write a function `sample(probabilities,values)` that takes two inputs:\n",
    "- `probabilities`: a list of non-negative numbers adding up to one.\n",
    "- `values`: a list of numerical values, not necessarily positive or integer. \n",
    "The function should return a random value from the list `values`, based on the corresponding probabilities.\n",
    "\n",
    "For example, the code\n",
    "```\n",
    "sample([0.5,0.1,0.4],[3.5,-1,4.2])\n",
    "```\n",
    "\n",
    "Should return 3.5 with probability .5, -1 with probability 0.1, and 4.2 with probability 0.4.\n",
    "\n",
    "Write your function in the code cell below, and test it by drawing 10,000 samples and checking whether the frequencies of values correspond approximately to the probabilities you input.\n"
   ]
  },
  {
   "cell_type": "code",
   "execution_count": 3,
   "metadata": {},
   "outputs": [],
   "source": [
    "from scipy.stats import uniform\n",
    "import pandas as pd\n",
    "import matplotlib.pyplot as plt"
   ]
  },
  {
   "cell_type": "code",
   "execution_count": 4,
   "metadata": {},
   "outputs": [],
   "source": [
    "def sample(probabilities,values):\n",
    "    if sum(probabilities)!=1:\n",
    "        print(\"Sum of probability should equal 1\")\n",
    "    elif len(probabilities)!=len(values):\n",
    "        print(\"Size of the probabilities and values should be the same\")\n",
    "    else:\n",
    "        total=[]\n",
    "        for i in range(len(probabilities)):\n",
    "            if probabilities[i]<0:\n",
    "                print(\"Probability should be 0-1\")\n",
    "                break\n",
    "            total.append(sum(probabilities[:i+1]))\n",
    "        if len(total)==len(probabilities):\n",
    "            val=[]\n",
    "            samp=uniform(0,1).rvs(size=10000)\n",
    "            for i in samp:\n",
    "                if i<total[0]:\n",
    "                    val.append(values[0])\n",
    "                else:\n",
    "                    for j in range(len(total)-1):\n",
    "                        if ((i-total[j])*(i-total[j+1])<0):\n",
    "                            break\n",
    "                    val.append(values[j+1])\n",
    "    return val"
   ]
  },
  {
   "cell_type": "code",
   "execution_count": 5,
   "metadata": {},
   "outputs": [],
   "source": [
    "data=pd.DataFrame(sample([0.5,0.1,0.4],[3.5,-1,4.2]))"
   ]
  },
  {
   "cell_type": "code",
   "execution_count": 6,
   "metadata": {},
   "outputs": [
    {
     "data": {
      "image/png": "[encoded data removed]",
      "text/plain": [
       "<Figure size 432x288 with 1 Axes>"
      ]
     },
     "metadata": {},
     "output_type": "display_data"
    }
   ],
   "source": [
    "data.plot(kind='hist').legend_.remove()"
   ]
  },
  {
   "cell_type": "markdown",
   "metadata": {},
   "source": [
    "## Simulating Distribution of Daily Earnings at Rockport\n",
    "\n",
    "In this exercise, you will use the `scipy.stats` package to generate normal and general discrete samples, in order to plot the shape of the probability distributions of the daily earnings from using Rockport in the example in DMD 5.1 (from pre-class readings). Simulate 10000 samples and plot the frequency instead of the density. You should also include the proper titles and labels of the x and y axis. Write your code in the code cell below (a correct sample graph is below).\n",
    "\n",
    "The revenue has the form $price*min(demand,3500)-10000$, where price is normally distributed with mean $\\mu = 3.65$ and standard deviation of $\\sigma=0.2$, demand follows a discrete distribution, as in the following table.  You should make the price zero whenever you get a negative sample.\n",
    "\n",
    "| Demand (lbs of codfish) | Probability |\n",
    "|--|--|\n",
    "|0 | 0.02|\n",
    "|1000|0.03|\n",
    "|2000|0.05|\n",
    "|3000|0.08|\n",
    "|4000|0.33|\n",
    "|5000|0.29|\n",
    "|6000|0.20|\n",
    "\n"
   ]
  },
  {
   "cell_type": "code",
   "execution_count": 11,
   "metadata": {},
   "outputs": [],
   "source": [
    "from scipy.stats import norm\n",
    "D=[]\n",
    "for i in range(7): D.append(1000*i)"
   ]
  },
  {
   "cell_type": "code",
   "execution_count": 12,
   "metadata": {},
   "outputs": [],
   "source": [
    "Prob=[0.02,0.03,0.05,0.08,0.33,0.29,0.2]"
   ]
  },
  {
   "cell_type": "code",
   "execution_count": 13,
   "metadata": {},
   "outputs": [],
   "source": [
    "Demand=sample(Prob,D)"
   ]
  },
  {
   "cell_type": "code",
   "execution_count": 14,
   "metadata": {},
   "outputs": [],
   "source": [
    "P=norm(3.65,0.2).rvs(size=10000)"
   ]
  },
  {
   "cell_type": "code",
   "execution_count": 15,
   "metadata": {},
   "outputs": [],
   "source": [
    "for i in P:\n",
    "    if i<0:\n",
    "        i=0"
   ]
  },
  {
   "cell_type": "code",
   "execution_count": 16,
   "metadata": {},
   "outputs": [],
   "source": [
    "R=[]\n",
    "for i in range(10000):\n",
    "    R.append(P[i]*min(Demand[i],3500)-10000)"
   ]
  },
  {
   "cell_type": "code",
   "execution_count": 17,
   "metadata": {},
   "outputs": [
    {
     "data": {
      "text/plain": [
       "Text(0.5,1,'Distribution of earnings from Rockport (10000 simulations)')"
      ]
     },
     "execution_count": 17,
     "metadata": {},
     "output_type": "execute_result"
    },
    {
     "data": {
      "image/png": "[encoded data removed]",
      "text/plain": [
       "<Figure size 432x288 with 1 Axes>"
      ]
     },
     "metadata": {},
     "output_type": "display_data"
    }
   ],
   "source": [
    "earnings=pd.DataFrame(R)\n",
    "earnings.plot(kind='hist',bins=50).legend_.remove()\n",
    "plt.xlabel('Earnings from Rockport')\n",
    "plt.title('Distribution of earnings from Rockport (10000 simulations)')"
   ]
  }
 ],
 "metadata": {
  "kernelspec": {
   "display_name": "Python 3",
   "language": "python",
   "name": "python3"
  },
  "language_info": {
   "codemirror_mode": {
    "name": "ipython",
    "version": 3
   },
   "file_extension": ".py",
   "mimetype": "text/x-python",
   "name": "python",
   "nbconvert_exporter": "python",
   "pygments_lexer": "ipython3",
   "version": "3.6.5"
  }
 },
 "nbformat": 4,
 "nbformat_minor": 2
}
